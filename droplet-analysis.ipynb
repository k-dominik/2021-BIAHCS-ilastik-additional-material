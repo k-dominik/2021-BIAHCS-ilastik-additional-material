{
 "cells": [
  {
   "cell_type": "code",
   "execution_count": 1,
   "id": "30e3090d",
   "metadata": {},
   "outputs": [],
   "source": [
    "import seaborn\n",
    "import pandas\n",
    "from pathlib import Path\n",
    "import re\n",
    "import numpy\n",
    "import sklearn.svm\n",
    "from sklearn.pipeline import make_pipeline\n",
    "from sklearn.preprocessing import StandardScaler\n",
    "import sklearn.ensemble\n",
    "from matplotlib import pyplot as plt\n",
    "seaborn.set_theme(style=\"whitegrid\", palette=\"pastel\")"
   ]
  },
  {
   "cell_type": "code",
   "execution_count": 2,
   "id": "2e542cbd",
   "metadata": {},
   "outputs": [],
   "source": [
    "in_folder = Path(\"./results/t0\")\n",
    "files = in_folder.glob(\"*droplets_table.csv\")"
   ]
  },
  {
   "cell_type": "code",
   "execution_count": 3,
   "id": "02c44920",
   "metadata": {},
   "outputs": [],
   "source": [
    "def extract_features(df):\n",
    "    grouped = df.loc[df[\"AtlasMapping\"]!=0].groupby(\"AtlasMapping\")\n",
    "    n_droplets_per_cell = grouped.size().to_numpy()\n",
    "    droplet_area_per_cell = grouped[\"Size in pixels\"].sum().to_numpy()\n",
    "    \n",
    "    features = {\n",
    "        \"med_droplet_area_per_cell\": numpy.median(droplet_area_per_cell),\n",
    "        \"med_mean_droplet_intensity_per_cell\": numpy.median(grouped[\"Mean Intensity\"].mean().to_numpy()),\n",
    "        \"med_n_droplets_per_cell\":  numpy.median(n_droplets_per_cell),\n",
    "    }\n",
    "    return features\n",
    "\n",
    "def plate_coordinates(path):\n",
    "    \"\"\"extract plate coordinates from filename\n",
    "    e.g.\n",
    "        B - 02(fld 2 wv FITC - FITC)_droplets_table\n",
    "        -> (B, 2, 2)\n",
    "    \"\"\"\n",
    "    ptrn = re.compile(\"(?P<y>[B-G]) - (?P<x>[\\d]{2})\\(fld (?P<field>[1-3])\")\n",
    "    groupdict = ptrn.match(str(path.name)).groupdict()\n",
    "    groupdict[\"x\"] = int(groupdict[\"x\"])\n",
    "    groupdict[\"field\"] = int(groupdict[\"field\"])\n",
    "    return groupdict"
   ]
  },
  {
   "cell_type": "code",
   "execution_count": 4,
   "id": "c564fe35",
   "metadata": {},
   "outputs": [],
   "source": [
    "data = []\n",
    "for f in in_folder.glob(\"*droplets_table.csv\"):\n",
    "    key = plate_coordinates(f)\n",
    "    df = pandas.read_csv(f)\n",
    "    features = extract_features(df)\n",
    "    features.update(key)\n",
    "    data.append(features)"
   ]
  },
  {
   "cell_type": "code",
   "execution_count": 5,
   "id": "04771390",
   "metadata": {},
   "outputs": [],
   "source": [
    "fdf = pandas.DataFrame(data)\n",
    "fdf.set_index([\"y\", \"x\", \"field\"], inplace=True)"
   ]
  },
  {
   "cell_type": "code",
   "execution_count": 6,
   "id": "1c29dba5",
   "metadata": {},
   "outputs": [],
   "source": [
    "training_feature_keys = [\"med_droplet_area_per_cell\", \"med_n_droplets_per_cell\", \"med_mean_droplet_intensity_per_cell\"]\n",
    "\n",
    "gt_0 = [(y, 2, field) for field in range(1,4) for y in \"BCDEFG\"]\n",
    "gt_1 = [(y, 3, field) for field in range(1,4) for y in \"BCDEFG\"]\n",
    "gt_coords = gt_0 + gt_1\n",
    "Y = [0 for x in gt_0] + [1 for x in gt_1]\n",
    "W = [\"untreated\" for x in gt_0] + [\"treated\" for x in gt_1]\n",
    "\n",
    "fdf.loc[gt_coords, \"label\"] = Y\n",
    "fdf.loc[gt_coords, \"class\"] = W\n",
    "fdf[\"all\"] = \"\"\n",
    "X = fdf.loc[gt_coords, training_feature_keys].values"
   ]
  },
  {
   "cell_type": "code",
   "execution_count": 7,
   "id": "2304187e",
   "metadata": {},
   "outputs": [
    {
     "name": "stderr",
     "output_type": "stream",
     "text": [
      "/home/kutra/miniconda3/envs/da/lib_pypy/_functools.py:80: MatplotlibDeprecationWarning: savefig() got unexpected keyword argument \"orientation\" which is no longer supported as of 3.3 and will become an error two minor releases later\n",
      "  return self._func(*(self._args + fargs), **fkeywords)\n"
     ]
    },
    {
     "data": {
      "image/png": "[encoded data removed]",
      "text/plain": [
       "<Figure size 1008x360 with 3 Axes>"
      ]
     },
     "metadata": {},
     "output_type": "display_data"
    }
   ],
   "source": [
    "fig, axs = plt.subplots(ncols=len(training_feature_keys),nrows=1,figsize=(14,5))\n",
    "for i, feat in enumerate(training_feature_keys):\n",
    "    seaborn.boxplot(data=fdf.loc[gt_coords], x=\"all\", y=feat, hue=\"class\", ax=axs[i], linewidth=1)\n",
    "    seaborn.despine(left=True)"
   ]
  },
  {
   "cell_type": "code",
   "execution_count": 8,
   "id": "7c45b8fc",
   "metadata": {},
   "outputs": [
    {
     "name": "stdout",
     "output_type": "stream",
     "text": [
      "ACC 1.0\n"
     ]
    }
   ],
   "source": [
    "clf = sklearn.ensemble.RandomForestClassifier(n_estimators=20)\n",
    "clf.fit(X, Y)\n",
    "print(\"ACC\", clf.score(X, Y))"
   ]
  },
  {
   "cell_type": "code",
   "execution_count": 9,
   "id": "f75c0ffc",
   "metadata": {},
   "outputs": [],
   "source": [
    "all_d = fdf.loc[:, training_feature_keys]\n",
    "preds = clf.predict(all_d)"
   ]
  },
  {
   "cell_type": "code",
   "execution_count": 10,
   "id": "d7f02f95",
   "metadata": {},
   "outputs": [],
   "source": [
    "fdf = fdf.assign(prediction=preds)"
   ]
  },
  {
   "cell_type": "code",
   "execution_count": 11,
   "id": "2f31f9e7",
   "metadata": {},
   "outputs": [],
   "source": [
    "plate_predictions = fdf.groupby([\"y\", \"x\"])[\"prediction\"].sum() >= 2"
   ]
  },
  {
   "cell_type": "code",
   "execution_count": 12,
   "id": "bec7ddbd",
   "metadata": {},
   "outputs": [],
   "source": [
    "coords = [(\"ABCDEFGHI\".index(y), x) for y, x in plate_predictions.index.to_numpy()]\n",
    "pred_img = numpy.ones((8, 13)) * -1"
   ]
  },
  {
   "cell_type": "code",
   "execution_count": 13,
   "id": "4b7a4f4b",
   "metadata": {},
   "outputs": [],
   "source": [
    "pred_img[[x[0] for x in coords], [x[1] for x in coords]] = plate_predictions"
   ]
  },
  {
   "cell_type": "code",
   "execution_count": 14,
   "id": "a68daa1c",
   "metadata": {},
   "outputs": [
    {
     "data": {
      "text/plain": [
       "(1.0, 13.0)"
      ]
     },
     "execution_count": 14,
     "metadata": {},
     "output_type": "execute_result"
    },
    {
     "name": "stderr",
     "output_type": "stream",
     "text": [
      "/home/kutra/miniconda3/envs/da/lib_pypy/_functools.py:80: MatplotlibDeprecationWarning: savefig() got unexpected keyword argument \"orientation\" which is no longer supported as of 3.3 and will become an error two minor releases later\n",
      "  return self._func(*(self._args + fargs), **fkeywords)\n"
     ]
    },
    {
     "data": {
      "image/png": "[encoded data removed]",
      "text/plain": [
       "<Figure size 432x288 with 1 Axes>"
      ]
     },
     "metadata": {},
     "output_type": "display_data"
    }
   ],
   "source": [
    "p = seaborn.heatmap(\n",
    "    pred_img,\n",
    "    cmap=[\"#DDD\", \"#FFE51F\", \"#A42F66\"],\n",
    "    cbar=False,\n",
    "    square=True,\n",
    "    vmin=-1,\n",
    "    vmax=1,\n",
    "    linewidths=10,\n",
    "    yticklabels=\"ABCDEFGH\"\n",
    ")\n",
    "p.set_xlim([1, 13])"
   ]
  },
  {
   "cell_type": "code",
   "execution_count": 15,
   "id": "97fdf8a5",
   "metadata": {},
   "outputs": [
    {
     "name": "stdout",
     "output_type": "stream",
     "text": [
      "Leave one out result (per field): 0.8611111111111112\n"
     ]
    }
   ],
   "source": [
    "from sklearn.model_selection import LeaveOneOut\n",
    "loo = LeaveOneOut()\n",
    "Y = numpy.array(Y)\n",
    "acc = []\n",
    "for train_idx, test_idx in loo.split(X):\n",
    "    X_train, X_test = X[train_idx], X[test_idx]\n",
    "    Y_train, Y_test = Y[train_idx], Y[test_idx]\n",
    "    clf = sklearn.ensemble.RandomForestClassifier(n_estimators=20)\n",
    "    clf.fit(X_train, Y_train)\n",
    "    acc.append(clf.score(X_test, Y_test))\n",
    "print(\"Leave one out result (per field):\", sum(acc)/len(acc))"
   ]
  }
 ],
 "metadata": {
  "kernelspec": {
   "display_name": "Python 3",
   "language": "python",
   "name": "python3"
  },
  "language_info": {
   "codemirror_mode": {
    "name": "ipython",
    "version": 3
   },
   "file_extension": ".py",
   "mimetype": "text/x-python",
   "name": "python",
   "nbconvert_exporter": "python",
   "pygments_lexer": "ipython3",
   "version": "3.7.10"
  }
 },
 "nbformat": 4,
 "nbformat_minor": 5
}
